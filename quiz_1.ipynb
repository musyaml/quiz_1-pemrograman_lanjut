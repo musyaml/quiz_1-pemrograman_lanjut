{
  "nbformat": 4,
  "nbformat_minor": 0,
  "metadata": {
    "colab": {
      "provenance": [],
      "authorship_tag": "ABX9TyOfDjBuZsZMMNBUyJ4xiuai",
      "include_colab_link": true
    },
    "kernelspec": {
      "name": "python3",
      "display_name": "Python 3"
    },
    "language_info": {
      "name": "python"
    }
  },
  "cells": [
    {
      "cell_type": "markdown",
      "metadata": {
        "id": "view-in-github",
        "colab_type": "text"
      },
      "source": [
        "<a href=\"https://colab.research.google.com/github/musyaml/quiz_1-pemrograman_lanjut/blob/main/quiz_1.ipynb\" target=\"_parent\"><img src=\"https://colab.research.google.com/assets/colab-badge.svg\" alt=\"Open In Colab\"/></a>"
      ]
    },
    {
      "cell_type": "code",
      "execution_count": null,
      "metadata": {
        "colab": {
          "base_uri": "https://localhost:8080/"
        },
        "id": "wK7qRPy7x2wh",
        "outputId": "2c3400ba-4923-4e24-e24b-cd9e497e1c97"
      },
      "outputs": [
        {
          "output_type": "stream",
          "name": "stdout",
          "text": [
            "Nomor 1\n",
            "========================================\n",
            "Hasil i * j : 123.0\n",
            "Hasil k + j * i : 128.7\n",
            "Hasil i / j * k : 1.6682926829268292\n",
            "Hasil j / k * i - 5 : 16.578947368421055\n",
            "Hasil j - k / 2 * i : 3.3999999999999986\n"
          ]
        }
      ],
      "source": [
        "\"\"\"\n",
        "Nama           : Muhammad Syaamil Muzhaffar\n",
        "NIM            : 41823010124\n",
        "Mata Kuliah    : Pemrograman Lanjut\n",
        "Dosen Pengampu : Muhammad Ali Akbar, M.Kom\n",
        "\"\"\"\n",
        "\n",
        "# Dengan menggunakan Python tentukan operasi-operasi aritmatika berikut, i = 6; j = 20.5; dan k = 5.7\n",
        "# 1. Hasil operasi aritmatika\n",
        "#    a. i*j\n",
        "#    b. i * k\n",
        "#    c. k + j * i\n",
        "#    d. i / j *k\n",
        "#    e. j / k*i -5\n",
        "#    f. j – k /2 * i\n",
        "\n",
        "i = 6\n",
        "j = 20.5\n",
        "k = 5.7\n",
        "print(\"Nomor 1\")\n",
        "print(\"========================================\")\n",
        "print(f\"Hasil i * j : {i * j}\")\n",
        "print(f\"Hasil k + j * i : {k + (j * i)}\")\n",
        "print(f\"Hasil i / j * k : {i / j * k}\")\n",
        "print(f\"Hasil j / k * i - 5 : {(j / k * i) - 5}\")\n",
        "print(f\"Hasil j - k / 2 * i : {j - (k / 2 * i)}\")"
      ]
    },
    {
      "cell_type": "code",
      "source": [
        "\"\"\"\n",
        "Nama           : Muhammad Syaamil Muzhaffar\n",
        "NIM            : 41823010124\n",
        "Mata Kuliah    : Pemrograman Lanjut\n",
        "Dosen Pengampu : Muhammad Ali Akbar, M.Kom\n",
        "\"\"\"\n",
        "\n",
        "# 2. Benar atau salah:\n",
        "#    a. j>i\n",
        "#    b. j>k\n",
        "#    c. i * k <j\n",
        "#    d. int(k) == 5\n",
        "#    e. int(j) * 5 ==100\n",
        "#    f. int(k) * 4 == int (j)\n",
        "\n",
        "i = 6\n",
        "j = 20.5\n",
        "k = 5.7\n",
        "print(f\"Nomor 2\")\n",
        "print(\"============================\")\n",
        "\n",
        "if j > i:\n",
        "  print(f\"j > i : {True}\")\n",
        "else:\n",
        "  print(f\"j > i : {False}\")\n",
        "\n",
        "if j > k:\n",
        "  print(f\"j > k : {True}\")\n",
        "else:\n",
        "  print(f\"j > k : {False}\")\n",
        "\n",
        "if i * j > k:\n",
        "  print(f\"i * j > k : {True}\")\n",
        "else:\n",
        "  print(f\"i * j > k : {False}\")\n",
        "\n",
        "if int(k) == 5:\n",
        "  print(f\"k == 5 : {True}\")\n",
        "else:\n",
        "  print(f\"k == 5 : {False}\")\n",
        "\n",
        "if int(j) * 5 == 100:\n",
        "  print(f\"int(k) * 5 == 100 : {True}\")\n",
        "else:\n",
        "  print(f\"int(k) * 5 == 100 : {False}\")\n",
        "\n",
        "if int(k) * 4 == 100:\n",
        "  print(f\"int(k) * 4 == int(j) : {True}\")\n",
        "else:\n",
        "  print(f\"int(k) * 4 == int(j) : {False}\")"
      ],
      "metadata": {
        "colab": {
          "base_uri": "https://localhost:8080/"
        },
        "id": "3sV-4ayJ2WLF",
        "outputId": "bdf32d8e-cf77-4b19-e9ec-8741547521d6"
      },
      "execution_count": null,
      "outputs": [
        {
          "output_type": "stream",
          "name": "stdout",
          "text": [
            "Nomor 2\n",
            "============================\n",
            "j > i : True\n",
            "j > k : True\n",
            "i * j > k : True\n",
            "k == 5 : True\n",
            "int(k) * 5 == 100 : True\n",
            "int(k) * 4 == int(j) : False\n"
          ]
        }
      ]
    }
  ]
}